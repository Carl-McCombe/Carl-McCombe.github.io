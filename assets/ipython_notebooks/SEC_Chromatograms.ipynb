{
 "cells": [
  {
   "cell_type": "markdown",
   "metadata": {},
   "source": [
    "# SEC Chromatograms #\n",
    "\n",
    "The aim of this notebook is to create a plot that can display multiple SEC chromatograms and highlight regions in each chromatogram that indicates the known elution volumes of other proteins. \n",
    "The plots are made using matplotlib, which enables fine control over all elements of the plots although requires a considerable amount of code to improve the look of the plot. Pandas is used to read the data from a csv file. The information in the inut csv include the elution volume and the absorbance recorded at that volume, which can be exported from the GE Unicorn software. "
   ]
  },
  {
   "cell_type": "markdown",
   "metadata": {
    "tags": []
   },
   "source": [
    "## Imports ##\n",
    "\n",
    "As stated above this notebook uses pandas and matplotlib. I also manually set the font which can be easily changed depending on user preference. "
   ]
  },
  {
   "cell_type": "code",
   "execution_count": null,
   "metadata": {},
   "outputs": [],
   "source": [
    "import matplotlib.lines as mlines\n",
    "import matplotlib.pyplot as plt\n",
    "import pandas as pd\n",
    "import matplotlib.patches as mpatches\n",
    "from matplotlib import rcParams\n",
    "rcParams['mathtext.default'] = 'regular'\n",
    "from matplotlib import rc\n",
    "rc('font',**{'family':'serif','serif':['Times']})"
   ]
  },
  {
   "cell_type": "markdown",
   "metadata": {
    "tags": []
   },
   "source": [
    "## Reading the data & making the plot ##\n",
    "\n",
    "The data should be provided with the elution volumes in one column (labelled 'Volume' to be compatible with the code below, or just change the code below to match your column name), and the absorbance values for the various protein solutions in the other columns (update the names in the code below). mPatches are used to 'highlight' sections of plot.  "
   ]
  },
  {
   "cell_type": "code",
   "execution_count": null,
   "metadata": {},
   "outputs": [],
   "source": [
    "data = pd.read_csv('data.csv')\n",
    "Figure, axes = plt.subplots(1, 4, figsize =(5.5,3.5)) \n",
    "\n",
    "A = Figure.axes[0]\n",
    "B = Figure.axes[1]\n",
    "C = Figure.axes[2]\n",
    "D = Figure.axes[3]\n",
    "\n",
    "A.plot(data.Volume, data.one, color=(0, 0, 0), linewidth = 2)\n",
    "B.plot(data.Volume, data.two, color=(0, 0, 0), linewidth = 2)\n",
    "C.plot(data.Volume, data.three, color=(0, 0, 0), linewidth = 2)\n",
    "D.plot(data.Volume, data.four, color=(0, 0, 0), linewidth = 2)\n",
    "\n",
    "\n",
    "A.set_ylabel('Absorbance at 280 nm (mAU)', fontsize=12)\n",
    "Figure.text(0.5, 0, 'Elution Volume (mL)', ha='center', fontsize=12)\n",
    "\n",
    "A.spines[\"top\"].set_visible(False)\n",
    "B.spines[\"top\"].set_visible(False)\n",
    "C.spines[\"top\"].set_visible(False)\n",
    "D.spines[\"top\"].set_visible(False)\n",
    "A.spines[\"right\"].set_visible(False)\n",
    "B.spines[\"right\"].set_visible(False)\n",
    "C.spines[\"right\"].set_visible(False)\n",
    "D.spines[\"right\"].set_visible(False)\n",
    "\n",
    "A.grid(which='major', axis='y')\n",
    "B.grid(which='major', axis='y')\n",
    "C.grid(which='major', axis='y')\n",
    "D.grid(which='major', axis='y')\n",
    "\n",
    "A.tick_params(axis='both', direction='in', labelsize=12, which='both')\n",
    "B.tick_params(axis='both', direction='in', labelsize=12, which='both')\n",
    "C.tick_params(axis='both', direction='in', labelsize=12, which='both')\n",
    "D.tick_params(axis='both', direction='in', labelsize=12, which='both')\n",
    "\n",
    "A.minorticks_on()\n",
    "B.minorticks_on()\n",
    "C.minorticks_on()\n",
    "D.minorticks_on()\n",
    "\n",
    "A.set_title('Protein_1', fontsize=12)\n",
    "B.set_title('Protein_2', fontsize=12)\n",
    "C.set_title('Protein_3', fontsize=12)\n",
    "D.set_title('Protein_4', fontsize=12)\n",
    "\n",
    "A.axvline(x=183, ymin=0, ymax=1, linewidth=8, alpha=0.3, color=(0.41, 0.67, 0.40))\n",
    "B.axvline(x=183, ymin=0, ymax=1, linewidth=8, alpha=0.3, color=(0.41, 0.67, 0.40))\n",
    "C.axvline(x=183, ymin=0, ymax=1, linewidth=8, alpha=0.3, color=(0.41, 0.67, 0.40))\n",
    "D.axvline(x=183, ymin=0, ymax=1, linewidth=8, alpha=0.3, color=(0.41, 0.67, 0.40))\n",
    "\n",
    "A.set_xlim([75, 240])\n",
    "B.set_xlim([75, 240])\n",
    "C.set_xlim([75, 240])\n",
    "D.set_xlim([75, 240])\n",
    "\n",
    "DimerLegend = mpatches.Patch(color=(0.78, 0.60, 1), label='Known Protein 1\\nElution Volume', alpha=0.4)\n",
    "MonomerLegend = mpatches.Patch(color=(0.41, 0.67, 0.40), label='Known Protein 1\\nElution Volume', alpha=0.4)\n",
    "trace = mlines.Line2D([], [], color='black', label='Absorbance')\n",
    "D.legend(handles=[MonomerLegend, DimerLegend, trace], loc='center right', edgecolor='black', fancybox=False, fontsize = 12, borderaxespad=-12)\n",
    "\n",
    "A.axvline(x=150, ymin=0, ymax=1, linewidth=6, alpha=0.3, color=(0.78, 0.60, 1))\n",
    "B.axvline(x=150, ymin=0, ymax=1, linewidth=6, alpha=0.3, color=(0.78, 0.60, 1))\n",
    "C.axvline(x=150, ymin=0, ymax=1, linewidth=6, alpha=0.3, color=(0.78, 0.60, 1))\n",
    "D.axvline(x=150, ymin=0, ymax=1, linewidth=6, alpha=0.3, color=(0.78, 0.60, 1))\n",
    "Figure.subplots_adjust(hspace=0, wspace=0.275, left=0, bottom=0.1, right=1, top=1)\n",
    "plt.savefig('', dpi=600, bbox_inches='tight')"
   ]
  }
 ],
 "metadata": {
  "kernelspec": {
   "display_name": "Python 3 (ipykernel)",
   "language": "python",
   "name": "python3"
  },
  "language_info": {
   "codemirror_mode": {
    "name": "ipython",
    "version": 3
   },
   "file_extension": ".py",
   "mimetype": "text/x-python",
   "name": "python",
   "nbconvert_exporter": "python",
   "pygments_lexer": "ipython3",
   "version": "3.9.7"
  }
 },
 "nbformat": 4,
 "nbformat_minor": 4
}
