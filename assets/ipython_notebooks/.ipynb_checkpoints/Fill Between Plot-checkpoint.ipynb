{
 "cells": [
  {
   "cell_type": "markdown",
   "metadata": {
    "jp-MarkdownHeadingCollapsed": true,
    "tags": []
   },
   "source": [
    "# Fill-between Plot #\n",
    "\n",
    "Aim: To create a line plot that shows error/deviation by filling an area. This notebook does that while making two subplots. "
   ]
  },
  {
   "cell_type": "markdown",
   "metadata": {
    "jp-MarkdownHeadingCollapsed": true,
    "tags": []
   },
   "source": [
    "## Imports ##\n",
    "This notebook requires pandas (to read the data) and matplotlib (to plot the data). "
   ]
  },
  {
   "cell_type": "code",
   "execution_count": null,
   "metadata": {},
   "outputs": [],
   "source": [
    "import matplotlib.pyplot as plt\n",
    "import pandas as pd\n",
    "from matplotlib import rcParams\n",
    "rcParams['mathtext.default'] = 'regular'\n",
    "from matplotlib import rc\n",
    "rc('font',**{'family':'serif','serif':['Times']})"
   ]
  },
  {
   "cell_type": "markdown",
   "metadata": {
    "jp-MarkdownHeadingCollapsed": true,
    "tags": []
   },
   "source": [
    "## Reading the data & Plotting ##\n",
    "\n",
    "Read the comments in the cells below for details. The data should be provided in a csv file with one column having the time elapsed (i.e. since an enzyme was added to a solution), another column with the standard error (or similar) for multiple replicates of the same treatment, and another column having the mean values for the treatment. "
   ]
  },
  {
   "cell_type": "code",
   "execution_count": null,
   "metadata": {},
   "outputs": [],
   "source": [
    "# Importing the data\n",
    "data = pd.read_csv('file.csv')\n",
    "Figure, axes = plt.subplots(1, 2, sharey='row', figsize=(5.5,3.5))\n",
    "# Makes a figure with two plots that share a y-axis\n",
    "A = Figure.axes[0]\n",
    "B = Figure.axes[1]\n",
    "# Naming the two individual plots within the figure\n",
    "A.plot(data.Time_min, data.AveWT_A, color=[31 / 255, 119 / 255, 180 / 255])\n",
    "A.plot(data.Time_min, data.AveMut_A, color=[152 / 255, 223 / 255, 138 / 255])\n",
    "# Plotting the data and colouring the lines in the first plot\n",
    "# Here I've used RGB values but colours can also be specified by name\n",
    "A.fill_between(data.Time_min, data.AveWT_A - data.SDWT_A,\n",
    "                      data.AveWT_A + data.SDWT_A, color=[31 / 255, 119 / 255, 180 / 255], alpha=0.5)\n",
    "A.fill_between(data.Time_min, data.AveMut_A - data.SDMut_A,\n",
    "                      data.AveMut_A + data.SDMut_A, color=[152 / 255, 223 / 255, 138 / 255], alpha=0.5)\n",
    "# Using the fill_between feature to show the standard deviation around the mean, alpha indicates transparency\n",
    "# You'll notice that the mean and standard deviation of the data was already present in the csv file and is not calculated with the code\n",
    "B.plot(data.Time_min, data.AveWT_B, color=[31 / 255, 119 / 255, 180 / 255], label= 'Wild-Type')\n",
    "B.plot(data.Time_min, data.AveMut_B, color=[152 / 255, 223 / 255, 138 / 255], label= 'Mutant')\n",
    "B.fill_between(data.Time_min, data.AveWT_B - data.SDWT_B,\n",
    "                      data.AveWT_B + data.SDWT_B, color=[31 / 255, 119 / 255, 180 / 255], alpha=0.5)\n",
    "B.fill_between(data.Time_min, data.AveMut_B - data.SDMut_B,\n",
    "                      data.AveMut_B + data.SDMut_B, color=[152 / 255, 223 / 255, 138 / 255], alpha=0.5)\n",
    "# Same as above except for the second subplot\n",
    "A.set_title('A', fontsize=12)\n",
    "B.set_title('B', fontsize=12)\n",
    "# Sets a title for the subplots\n",
    "Figure.text(0.5, 0, 'Time (minutes)', ha='center', fontsize=12)\n",
    "A.set_ylabel('Δ Relative Fluorescence (x10\\u00b3 RFU)', fontsize=12)\n",
    "# Labels the axes, determines size of font, and labelpad is how far away from the axis the label is\n",
    "A.spines[\"top\"].set_visible(False)\n",
    "A.spines[\"right\"].set_visible(False)\n",
    "B.spines[\"top\"].set_visible(False)\n",
    "B.spines[\"right\"].set_visible(False)\n",
    "# Removes lines from around the plots\n",
    "Figure.subplots_adjust(hspace=0.5, wspace=0.03, left=0, bottom=0.1, right=1, top=1)\n",
    "# Positions the two subplots within the Figure, wspace/hspace is the space between the subplots\n",
    "A.ticklabel_format(axis=\"y\", style=\"sci\", scilimits=(0, 0))\n",
    "# Changes the numbers on the axes to scientific notation\n",
    "offsetAx = A.get_xaxis().get_offset_text()\n",
    "offsetAy = A.get_yaxis().get_offset_text()\n",
    "offsetBx = B.get_xaxis().get_offset_text()\n",
    "offsetAx.set_visible(False)\n",
    "offsetAy.set_visible(False)\n",
    "offsetBx.set_visible(False)\n",
    "A.grid(which='major', axis='y')\n",
    "B.grid(which='major', axis='y')\n",
    "# Adds gridlines to the plot\n",
    "A.tick_params(axis='both', direction='in', labelsize=12, which='both')\n",
    "B.tick_params(axis='both', direction='in', labelsize=12, which='both')\n",
    "# Alters the parameters of the ticks on each axes, label size is the size of the numbers on the axes\n",
    "A.minorticks_on()\n",
    "B.minorticks_on()\n",
    "# In addition with tick_params settings, turns on minor tick marks\n",
    "legend = B.legend(loc='center right', fontsize=12, fancybox=False, labelspacing=1,\n",
    "                         borderaxespad=-10, edgecolor='black', title= 'Assay', title_fontsize=12)\n",
    "# Adds a figure legend and alters the settings, any data points with a specified label are automatically added to the\n",
    "# legend\n",
    "for line in legend.get_lines():\n",
    "    line.set_linewidth(3.0)\n",
    "# Changes the width of the lines used in the legend\n",
    "plt.savefig('file_location/file_name', dpi=600, bbox_inches='tight')\n",
    "# Saves the figure & specifys the dpi"
   ]
  }
 ],
 "metadata": {
  "kernelspec": {
   "display_name": "Python 3 (ipykernel)",
   "language": "python",
   "name": "python3"
  },
  "language_info": {
   "codemirror_mode": {
    "name": "ipython",
    "version": 3
   },
   "file_extension": ".py",
   "mimetype": "text/x-python",
   "name": "python",
   "nbconvert_exporter": "python",
   "pygments_lexer": "ipython3",
   "version": "3.9.7"
  }
 },
 "nbformat": 4,
 "nbformat_minor": 4
}
