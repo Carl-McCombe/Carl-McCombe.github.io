{
 "cells": [
  {
   "cell_type": "markdown",
   "metadata": {
    "tags": []
   },
   "source": [
    "# Assessing Nudix box amino acids in canonical Nudix hydrolases\n",
    "The purpose of this program is to identify Nudix hydrolases from sequences in FASTA format and determine what amino acid resides in\n",
    "a user-specified position within the Nudix box.\n",
    "The output of the program will include figures displaying the results as well as dataframes showing the results in easy to read \n",
    "text.\n",
    "The most important thing to remember when running this is to add desired save locations and unique files names to the plt.savefig lines. \n",
    "\n",
    "It would be relatively easy to alter this code to look for other motifs in sequences. "
   ]
  },
  {
   "cell_type": "markdown",
   "metadata": {
    "jp-MarkdownHeadingCollapsed": true,
    "tags": []
   },
   "source": [
    "### Imports & settings ###\n",
    "\n",
    "The pd.set_option removes the width limits for the dataframes when displayed in the viewport, this enables the user to see the complete protein sequence when displaying dataframes. "
   ]
  },
  {
   "cell_type": "code",
   "execution_count": null,
   "metadata": {},
   "outputs": [],
   "source": [
    "import re, os, numpy as np, pandas as pd, matplotlib.pyplot as plt\n",
    "pd.set_option('display.max_colwidth', None) \n",
    "# So the entire sequence can be viewed in the viewport when looking at dataframes"
   ]
  },
  {
   "cell_type": "markdown",
   "metadata": {
    "jp-MarkdownHeadingCollapsed": true,
    "tags": []
   },
   "source": [
    "## Sequence to search for ##\n",
    "\n",
    "Enter the sequence to search for. Many consensus sequences are variable, this presents a problem when searching for it in a given protein sequence. To get around this problem I am using regular expressions (re). The re module enables complex search options, here I am using a '.' between each conserved residue to indicate that these residues can be anything i.e. Both GFIEPGESLEEAVRRETWEETGI and GYLEVGESAAQGAMRETWEEAGA will return a positive match despite being different sequences. \n",
    "Note that there are a variety of special regular expression options that are useful when searching sequences, for example 'G[VA][FT]|GFH' would match with GVF, GVT, GAF, GAT, and GFH. "
   ]
  },
  {
   "cell_type": "code",
   "execution_count": null,
   "metadata": {},
   "outputs": [],
   "source": [
    "Nudix_motif = '..G.....[ED].......RE..EE.G.' # Whatever sequence you want to find\n",
    "Nudix_motif_compile = re.compile(Nudix_motif) # re.compile turns our string into a regular expression. "
   ]
  },
  {
   "cell_type": "markdown",
   "metadata": {
    "tags": []
   },
   "source": [
    "## Functions!\n",
    "The first function is the most complex and extracts all the necessary information from the sequences.\n",
    "The next two functions convert this information into graphics. "
   ]
  },
  {
   "cell_type": "markdown",
   "metadata": {
    "tags": []
   },
   "source": [
    "### Function 1: Extracting information"
   ]
  },
  {
   "cell_type": "code",
   "execution_count": null,
   "metadata": {},
   "outputs": [],
   "source": [
    "def prepareFASTAfile(file_location):\n",
    "    '''This function takes a text file with any number of protein sequences in FASTA format and returns \n",
    "    three dataframes. The first dataframe (protein_dataframe) provides protein ID information, the protein\n",
    "    sequence, if the protein is a canonical Nudix hydrolase, and if it is, will show the Nudix box sequence.\n",
    "    The other two dataframes are copies of the protein_dataframe. The first (onlycanonical) only has the information\n",
    "    for proteins identified as canonical Nudix hydrolases, the other (onlynoncanonical) will only have the proteins\n",
    "    without a canonical Nudix box sequence.'''\n",
    "    ID = []\n",
    "    Name = []\n",
    "    taxID = []\n",
    "    Sequences = []\n",
    "# Creating empty lists that the data can be appended into, ultimately these lists will form the columns of the dataframe\n",
    "    temp_protein = \"\"\n",
    "# This temp_protein variable is required as the file starts with a label not a protein sequence (see if loop below). \n",
    "# This will be the first element in the Sequences list and is later removed using .pop\n",
    "    with open(file_location, \"r\") as open_file:\n",
    "        for line in open_file:\n",
    "# This opens and reads the file line by line\n",
    "            if line[0] == '>':\n",
    "                proteinID = line.split('|')\n",
    "# If the first character [0] in the line is a > (indicating the start of a new protein), everything in that line will be\n",
    "# split into a new element after the | symbol. As FASTA files from Interpro separate protein identification information\n",
    "# using |, this means each piece of ID information is now a spearate element in the proteinID list.         \n",
    "                ID.append(proteinID[0][1:])\n",
    "                Name.append(proteinID[2])\n",
    "                taxID.append(proteinID[3][6:-1])\n",
    "# Appending the relevant information in the proteinID list into the relevant lists, the taxID example is explained in detail below:\n",
    "# The forth ([3]) element in the protein ID list will be the taxID, as the first six characters for the taxID information in the \n",
    "# FASTA file is 'taxID:' we only want the characters from [6:] onwards. As the last character is \\n, we don't want it [:-1]\n",
    "                Sequences.append(temp_protein)\n",
    "# This chucks the protein sequence (as created in the else part of the loop) into the Sequence list.\n",
    "                temp_protein = \"\"\n",
    "# This replaces the latest protein sequence, meaning the next protein sequence will not be a combination of itself and all \n",
    "# other sequences that came before it. \n",
    "            else:\n",
    "                temp_protein += line[:-1]\n",
    "# In a FASTA file, if the line doesn't start with a '>', it is a protein sequence. As protein sequences are spread out over \n",
    "# numerous consecuative lines (with the number of lines dependant on the size of the sequence), the += line[:-1] adds them \n",
    "# together while removing the \\n that is at the end of each line.          \n",
    "    Sequences.append(temp_protein)\n",
    "# Adds the last complied protein sequence to the list\n",
    "    Sequences.pop(0)\n",
    "# Removes the first element from the sequences list (which is \"\", not an actual sequence)\n",
    "    Complied_Nudix_Boxes = []\n",
    "    Only_Nudix_Boxes = []\n",
    "# Some empty lists  to fill\n",
    "    for sequence in Sequences:\n",
    "        result = Nudix_motif_compile.search(sequence)\n",
    "        result = str(result)\n",
    "        Complied_Nudix_Boxes.append(result)\n",
    "# Here we go through every element (protein sequence) in the Sequences list and see if the regular expression finds a match\n",
    "# The result of the search is then converted into a string (as search results with re returns a different object type)\n",
    "# The string is then appended to a list\n",
    "    for element in Complied_Nudix_Boxes:\n",
    "        if len(element) > 11:\n",
    "            Nudix_sequence = element[-27:-2]\n",
    "            # -27 for a canonical Nudix protein with no insertions, increase to -29 for a double insertion\n",
    "            # Change these numbers if searching for larger or smaller sequences \n",
    "            \n",
    "            Only_Nudix_Boxes.append(Nudix_sequence)\n",
    "        else:\n",
    "            Only_Nudix_Boxes.append(element)\n",
    "# The purpose of this for loop is to remove the unnecessary text present before and after the matching sequence\n",
    "# The else part of the if statement is for those that did not match, which do not need anything removed. \n",
    "    protein_dataframe = pd.DataFrame( {'ID': ID,\n",
    "                                       'Name': Name,\n",
    "                                       'taxID': taxID,\n",
    "                                       'Nudix_Box': Only_Nudix_Boxes,\n",
    "                                       'Sequence': Sequences})\n",
    "# Turning our collection of lists into a dataframe \n",
    "    protein_dataframe.drop_duplicates(subset = 'Sequence', keep = 'first', inplace = True)\n",
    "# Removing any entries with identical sequences, could be even more strict and remove any entries with identical \n",
    "# Nudix boxes to remove very similar homologues\n",
    "    onlycanonical = protein_dataframe[protein_dataframe.Nudix_Box != 'None']\n",
    "    onlynoncanonical = protein_dataframe[protein_dataframe.Nudix_Box == 'None']\n",
    "# Slicing the dataframe into two copies, one with proteins with a canoncial nudix box the other with the remaining \n",
    "# proteins.\n",
    "    return onlycanonical, protein_dataframe, onlynoncanonical"
   ]
  },
  {
   "cell_type": "markdown",
   "metadata": {
    "jp-MarkdownHeadingCollapsed": true,
    "tags": []
   },
   "source": [
    "### Function 2: Does it have a canonical Nudix box sequence? - graphic"
   ]
  },
  {
   "cell_type": "code",
   "execution_count": null,
   "metadata": {},
   "outputs": [],
   "source": [
    "def canonicalNudixchart(dataframe, savepath):\n",
    "    '''This function creates a simple graphic (pie chart, histogram or similar) displaying the number\n",
    "    of proteins classified as Nudix hydrolases that have a canonical Nudix box sequence. I decided to go \n",
    "    with pie chart but this can be easily changed. For this function to work it requires the \n",
    "    'protein_dataframe' from the prepareFASTAfile function.'''\n",
    "    Canonical = 0\n",
    "    Non_Canonical = 0\n",
    "    for sequence in dataframe.Nudix_Box:\n",
    "        if sequence != 'None':\n",
    "            Canonical += 1\n",
    "        else:\n",
    "            Non_Canonical += 1\n",
    "# Simple for loop counting the number proteins identified as containing a canonical Nudix box \n",
    "    labels = ['Yes', 'No']\n",
    "    colours = ['springgreen', 'magenta',]\n",
    "    values = [Canonical, Non_Canonical]\n",
    "    fig, ax = plt.subplots()\n",
    "    ax.pie(values, colors = colours)\n",
    "    ax.legend(labels = labels, bbox_to_anchor=(0.85,1.025), loc=\"upper left\")\n",
    "    ax.set_title(Nudix_motif)\n",
    "    plt.subplots_adjust(left=0.1, bottom=0.1, right=0.75)\n",
    "# The adjustment and bbox_to_anchor set values ensure the legend will not overlap the plot\n",
    "    plt.savefig(savepath+'/pie_chart', dpi=300)\n",
    "# Change save file name if you do not want to overwrite the last save file"
   ]
  },
  {
   "cell_type": "markdown",
   "metadata": {
    "jp-MarkdownHeadingCollapsed": true,
    "tags": []
   },
   "source": [
    "### Function 3: What amino acid is in Nudix box position __ ? - graphic"
   ]
  },
  {
   "cell_type": "code",
   "execution_count": null,
   "metadata": {},
   "outputs": [],
   "source": [
    "def Nudixposition(Nudix_box_dataframe, savepath):\n",
    "    '''The purpose of this function is to determine what amino acids reside in a user given position of the Nudix\n",
    "    box (if the first G is allocated 0) of the canonical Nudix hydrolases'''\n",
    "    A = 0\n",
    "    R = 0\n",
    "    N = 0\n",
    "    D = 0\n",
    "    C = 0\n",
    "    E = 0\n",
    "    Q = 0\n",
    "    G = 0\n",
    "    H = 0\n",
    "    I = 0\n",
    "    L = 0\n",
    "    K = 0\n",
    "    M = 0\n",
    "    F = 0\n",
    "    P = 0\n",
    "    S = 0\n",
    "    T = 0\n",
    "    W = 0\n",
    "    Y = 0\n",
    "    V = 0\n",
    "    X = 0\n",
    "# All amino acids are given a value of 0, then a for loop iterates through each Nudix box and counts how many of \n",
    "# each residue are in a user specified (see pos) position within the string. Each amino acid is also appended to \n",
    "# the aainpos list so that another column can be added to the dataframe. A dictionary storing values for each of \n",
    "# amino acids would be a better way of implementing this.\n",
    "    aainpos = []\n",
    "    pos = int(input('What Nudix box position are you interested in? '))\n",
    "    for nudixbox in Nudix_box_dataframe.Nudix_Box:\n",
    "        if nudixbox[pos] == 'A':\n",
    "            A += 1\n",
    "            aainpos.append('A')\n",
    "        elif nudixbox[pos] == 'R':\n",
    "            R += 1\n",
    "            aainpos.append('R')\n",
    "        elif nudixbox[pos] == 'N':\n",
    "            N += 1\n",
    "            aainpos.append('N')\n",
    "        elif nudixbox[pos] == 'D':\n",
    "            D += 1\n",
    "            aainpos.append('D')\n",
    "        elif nudixbox[pos] == 'C':\n",
    "            C += 1\n",
    "            aainpos.append('C')\n",
    "        elif nudixbox[pos] == 'E':\n",
    "            E += 1\n",
    "            aainpos.append('E')\n",
    "        elif nudixbox[pos] == 'Q':\n",
    "            Q += 1\n",
    "            aainpos.append('Q')\n",
    "        elif nudixbox[pos] == 'G':\n",
    "            G += 1\n",
    "            aainpos.append('G')\n",
    "        elif nudixbox[pos] == 'H':\n",
    "            H += 1\n",
    "            aainpos.append('H')\n",
    "        elif nudixbox[pos] == 'I':\n",
    "            I += 1\n",
    "            aainpos.append('I')\n",
    "        elif nudixbox[pos] == 'L':\n",
    "            L += 1\n",
    "            aainpos.append('L')\n",
    "        elif nudixbox[pos] == 'K':\n",
    "            K += 1\n",
    "            aainpos.append('K')\n",
    "        elif nudixbox[pos] == 'M':\n",
    "            M += 1\n",
    "            aainpos.append('M')\n",
    "        elif nudixbox[pos] == 'F':\n",
    "            F += 1\n",
    "            aainpos.append('F')\n",
    "        elif nudixbox[pos] == 'P':\n",
    "            P += 1\n",
    "            aainpos.append('P')\n",
    "        elif nudixbox[pos] == 'S':\n",
    "            S += 1\n",
    "            aainpos.append('S')\n",
    "        elif nudixbox[pos] == 'T':\n",
    "            T += 1\n",
    "            aainpos.append('T')\n",
    "        elif nudixbox[pos] == 'W':\n",
    "            W += 1\n",
    "            aainpos.append('W')\n",
    "        elif nudixbox[pos] == 'Y':\n",
    "            Y += 1\n",
    "            aainpos.append('Y')\n",
    "        elif nudixbox[pos] == 'V':\n",
    "            V += 1\n",
    "            aainpos.append('V')\n",
    "    Nudix_box_dataframe.insert(4, 'Position'+str(pos), aainpos)\n",
    "# Inserting a column into the dataframe stating which amino acid is in the user-given position\n",
    "    X = A + R + N + D + C + E + Q + G + H + I + L + K + M + F + P + S + T + W + Y + V\n",
    "    Number_of_AA = [A,R,N,D,C,E,Q,G,H,I,L,K,M,F,P,S,T,W,Y,V]\n",
    "    Percentage_of_AA = []\n",
    "    for number in Number_of_AA:\n",
    "        Y = (number/X)*100\n",
    "        Percentage_of_AA.append(Y)\n",
    "# Simply converts the number of sequences with a certain amino acid into a percentage \n",
    "    Name_of_AA = ['Alanine', 'Arginine', 'Asparagine', 'Aspartate', 'Cysteine', 'Glutamate',\n",
    "                  'Glutamine', 'Glycine', 'Histidine', 'Isoleucine', 'Leucine', 'Lysine', 'Methionine',\n",
    "                 'Phenylalanine', 'Proline', 'Serine', 'Threonine', 'Tryptophan', 'Tyrosine', 'Valine']\n",
    "    barcolours = ['yellow','cornflowerblue','mediumorchid','tomato','lime','tomato','mediumorchid',\n",
    "                  'yellow','cornflowerblue','lime','lime', 'cornflowerblue','lime',\n",
    "                  'lime','lime','yellow','yellow','lime','lime','lime']\n",
    "# Bars will be coloured according to the properties of the amino acid they represent\n",
    "    fig, ax = plt.subplots()\n",
    "    ax.bar(Name_of_AA, Percentage_of_AA, width=0.90, color=barcolours)\n",
    "    plt.ylabel('Abundance (%)', fontsize=10, labelpad=5)\n",
    "#  plt.grid(which='major', axis='y')\n",
    "    plt.xticks(rotation = 90)\n",
    "    plt.tick_params(axis='y', direction = 'in')\n",
    "    ax.set_facecolor('linen')\n",
    "    plt.tight_layout()\n",
    "# Need to specify tight layout due to the length of the x-axis labels\n",
    "    plt.savefig(savepath+'/nudix_position'+str(pos), dpi=300)\n",
    "# Saved file name changes depending on the specified amino acid position\n",
    "# Change save file name if you do not want to overwrite the last save file with the same name\n",
    "    return Nudix_box_dataframe\n",
    "# This function also returns a dataframe that can be called upon to show which sequences have a particular amino acid\n",
    "# in the user-specified location"
   ]
  },
  {
   "cell_type": "markdown",
   "metadata": {
    "jp-MarkdownHeadingCollapsed": true,
    "tags": []
   },
   "source": [
    "## Running the program ##\n",
    "Running the cell below will result in you being asked to supply the filepath to the fasta file with your protein sequences. It will also ask for the location that you want to save the resulting figures to. Both figures will be displayed in the viewport as well. "
   ]
  },
  {
   "cell_type": "code",
   "execution_count": null,
   "metadata": {},
   "outputs": [],
   "source": [
    "onlycanonical, protein_dataframe, onlynoncanonical = prepareFASTAfile(input(\"Enter the location of the fasta file with the protein sequences to assess:\"))\n",
    "savepath = input(\"Enter the filepath to the folder you want the figures saved in:\")\n",
    "canonicalNudixchart(protein_dataframe, savepath)\n",
    "Nudix_box_dataframe = Nudixposition(onlycanonical, savepath)"
   ]
  }
 ],
 "metadata": {
  "kernelspec": {
   "display_name": "Python 3 (ipykernel)",
   "language": "python",
   "name": "python3"
  },
  "language_info": {
   "codemirror_mode": {
    "name": "ipython",
    "version": 3
   },
   "file_extension": ".py",
   "mimetype": "text/x-python",
   "name": "python",
   "nbconvert_exporter": "python",
   "pygments_lexer": "ipython3",
   "version": "3.9.7"
  }
 },
 "nbformat": 4,
 "nbformat_minor": 4
}
