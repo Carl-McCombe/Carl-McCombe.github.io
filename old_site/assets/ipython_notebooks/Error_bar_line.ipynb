{
 "cells": [
  {
   "cell_type": "markdown",
   "metadata": {
    "jp-MarkdownHeadingCollapsed": true,
    "tags": []
   },
   "source": [
    "# Error bar line plots # \n",
    "\n",
    "The aim of this notebook is to create a simple line plot with y-axis error bars."
   ]
  },
  {
   "cell_type": "markdown",
   "metadata": {
    "jp-MarkdownHeadingCollapsed": true,
    "tags": []
   },
   "source": [
    "## Imports ##\n",
    "\n",
    "This notebook requires pandas (for data import) and matplotlib (for plotting)."
   ]
  },
  {
   "cell_type": "code",
   "execution_count": null,
   "metadata": {},
   "outputs": [],
   "source": [
    "import matplotlib.pyplot as plt\n",
    "import pandas as pd\n",
    "from matplotlib import rcParams\n",
    "rcParams['mathtext.default'] = 'regular'\n",
    "from matplotlib import rc\n",
    "rc('font',**{'family':'serif','serif':['Times']})"
   ]
  },
  {
   "cell_type": "markdown",
   "metadata": {
    "jp-MarkdownHeadingCollapsed": true,
    "tags": []
   },
   "source": [
    "## Importing & Plotting the Data ##\n",
    "\n",
    "First the data is imported from a csv file that has one column with the x-axis values (e.g. time) and other columns with mean values for treatments and columns with the standard error values. "
   ]
  },
  {
   "cell_type": "code",
   "execution_count": null,
   "metadata": {},
   "outputs": [],
   "source": [
    "data_A = pd.read_csv('data_A.csv')\n",
    "data_B = pd.read_csv('data_B.csv')\n",
    "Figure, axes = plt.subplots(1, 2, sharey='row', figsize=(5.5,3.5))\n",
    "A = Figure.axes[0]\n",
    "B = Figure.axes[1]\n",
    "# Importing the data and making the subplots\n",
    "A.errorbar(data_A.Time, data_A.Mean_A, color=[0.41,0.67,0.40], yerr=flg22_data.SE_A, capsize = 2, marker = \"+\", mfc='black', mec = 'black', markersize = 2.75)\n",
    "A.errorbar(data_A.Time, data_A.Mean_B, color=[0.78,0.60,1], yerr=flg22_data.SE_B, capsize = 2, marker = \"x\", mfc='black', mec = 'black', markersize = 2.5)\n",
    "A.errorbar(data_A.Time, data_A.Mean_C, color='tomato', yerr=flg22_data.SE_C, capsize = 2, marker = \"s\", mfc='black', mec = 'black', markersize = 2)\n",
    "A.errorbar(data_A.Time, data_A.Mean_D, color='cyan', yerr=flg22_data.SE_D, capsize = 2, marker = \"*\", mfc='black', mec = 'black', markersize = 2.5)\n",
    "A.errorbar(data_A.Time, data_A.Mean_E, color='deepskyblue', yerr=flg22_data.SE_E, capsize = 2, marker = \"d\", mfc='black', mec = 'black', markersize = 2)\n",
    "A.errorbar(data_A.Time, data_A.Mean_F, color='gold', yerr=flg22_data.SE_F, capsize = 2, marker = \"v\", mfc='black', mec = 'black', markersize = 2)\n",
    "B.errorbar(data_B.Time, data_B.Mean_A, color=[0.41,0.67,0.40], yerr=chitin_data.SE_A, capsize = 2, label= 'A', marker = \"+\",mfc='black', mec = 'black', markersize = 2.75)\n",
    "B.errorbar(data_B.Time, data_B.Mean_B, color=[0.78,0.60,1], yerr=chitin_data.SE_B, capsize = 2, label= 'B', marker = \"x\", mfc='black', mec = 'black', markersize = 2.5)\n",
    "B.errorbar(data_B.Time, data_B.Mean_C, color='tomato', yerr=chitin_data.SE_C, capsize = 2, label= 'C', marker = \"s\", mfc='black', mec = 'black', markersize = 2)\n",
    "B.errorbar(data_B.Time, data_B.Mean_D, color='cyan', yerr=chitin_data.SE_D, capsize = 2, label= 'D', marker = \"*\", mfc='black', mec = 'black', markersize = 2.5)\n",
    "B.errorbar(data_B.Time, data_B.Mean_E, color='deepskyblue', yerr=chitin_data.SE_E, capsize = 2, label='E', marker = \"d\", mfc='black', mec = 'black', markersize = 2)\n",
    "B.errorbar(data_B.Time, data_B.Mean_F, color='gold', yerr=chitin_data.SE_F, capsize = 2, label='F', marker = \"v\", mfc='black', mec = 'black', markersize = 2)\n",
    "# Plotting the data and colouring the lines\n",
    "Figure.text(0.5, 0, 'Time (minutes)', ha='center', fontsize=12)\n",
    "A.set_ylabel('Luminesence (x10\\u00b3 RLU)', fontsize=12, labelpad=12)\n",
    "# Labels the axes, determines size of font, and labelpad is how far away from the axis the label is\n",
    "A.spines[\"top\"].set_visible(False)\n",
    "A.spines[\"right\"].set_visible(False)\n",
    "B.spines[\"top\"].set_visible(False)\n",
    "B.spines[\"right\"].set_visible(False)\n",
    "# Removes lines from around the plots\n",
    "# Positions the two subplots within the Figure, wspace/hspace is the space between the subplots\n",
    "A.ticklabel_format(axis=\"y\", style=\"sci\", scilimits=(0, 0))\n",
    "# Changes the numbers on the axes to scientific notation\n",
    "offsetAx = A.get_xaxis().get_offset_text()\n",
    "offsetAy = A.get_yaxis().get_offset_text()\n",
    "offsetAx.set_visible(False)\n",
    "offsetAy.set_visible(False)\n",
    "# Removes the automatically placed 1e10^n when specifying scientific notation\n",
    "A.grid(which='major', axis='y')\n",
    "B.grid(which='major', axis='y')\n",
    "# Adds gridlines to the plot\n",
    "A.tick_params(axis='both', direction='in', labelsize=12, which='both')\n",
    "B.tick_params(axis='both', direction='in', labelsize=12, which='both')\n",
    "# Alters the parameters of the ticks on each axes, label size is the size of the numbers on the axes\n",
    "A.minorticks_on()\n",
    "B.minorticks_on()\n",
    "A.set_title('A', fontsize=12)\n",
    "B.set_title('B', fontsize=12)\n",
    "# In addition with tick_params settings, turns on minor tick marks\n",
    "legend = B.legend(loc='center right', fontsize=12, fancybox=False, labelspacing=2,\n",
    "                         borderaxespad=-12, edgecolor='black')\n",
    "# Adds a figure legend and alters the settings, any data points with a specified label are automatically added to the\n",
    "# legend\n",
    "Figure.subplots_adjust(hspace=0, wspace=0.10, left=0, bottom=0.1, right=1, top=1)\n",
    "# Changes the width of the lines used in the legend\n",
    "plt.savefig('folder_location/filename', dpi=600, bbox_inches='tight')\n",
    "# Saves the figure & specifys the dpi"
   ]
  },
  {
   "cell_type": "code",
   "execution_count": null,
   "metadata": {},
   "outputs": [],
   "source": []
  }
 ],
 "metadata": {
  "kernelspec": {
   "display_name": "Python 3 (ipykernel)",
   "language": "python",
   "name": "python3"
  },
  "language_info": {
   "codemirror_mode": {
    "name": "ipython",
    "version": 3
   },
   "file_extension": ".py",
   "mimetype": "text/x-python",
   "name": "python",
   "nbconvert_exporter": "python",
   "pygments_lexer": "ipython3",
   "version": "3.9.7"
  }
 },
 "nbformat": 4,
 "nbformat_minor": 4
}
