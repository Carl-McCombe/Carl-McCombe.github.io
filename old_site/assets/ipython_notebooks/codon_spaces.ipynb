{
 "cells": [
  {
   "cell_type": "markdown",
   "metadata": {
    "jp-MarkdownHeadingCollapsed": true,
    "tags": []
   },
   "source": [
    "# Adding & removing spaces between codons in nucleic acid sequences #\n",
    "\n",
    "Input a sequence without codon spacing and this program will add spaces between every codon. Alternatively enter a sequence with codon spacing and the program will remove it. You are asked by the program if you want spaces added or removed and you are asked to input the nucleic acid sequence."
   ]
  },
  {
   "cell_type": "markdown",
   "metadata": {
    "jp-MarkdownHeadingCollapsed": true,
    "tags": []
   },
   "source": [
    "### Imports ###"
   ]
  },
  {
   "cell_type": "code",
   "execution_count": null,
   "metadata": {},
   "outputs": [],
   "source": [
    "import re\n",
    "regex = re.compile(\"[^a-zA-Z]\")"
   ]
  },
  {
   "cell_type": "markdown",
   "metadata": {
    "jp-MarkdownHeadingCollapsed": true,
    "tags": []
   },
   "source": [
    "### Functions ###"
   ]
  },
  {
   "cell_type": "code",
   "execution_count": null,
   "metadata": {},
   "outputs": [],
   "source": [
    "def addcodonspaces(sequence):\n",
    "    sequence = regex.sub('', sequence)\n",
    "    new_sequence = \" \".join(sequence[i:i+3] for i in range(0, len(sequence), 3))\n",
    "    j = len(sequence)\n",
    "    print('Length of sequence is '+str(j)+' nucleotides')\n",
    "    print('Here is the sequence with spaces between the codons: '+new_sequence)\n",
    "    return\n",
    "\n",
    "def removecodonspaces(sequence):\n",
    "    new_sequence = re.sub(' ', '', sequence)\n",
    "    j = len(sequence)\n",
    "    print('Length of sequence is '+str(j)+' nucleotides')\n",
    "    print('Here is the sequence without spaces between the codons: '+new_sequence)\n",
    "    return"
   ]
  },
  {
   "cell_type": "markdown",
   "metadata": {
    "tags": []
   },
   "source": [
    "### Inputs ###"
   ]
  },
  {
   "cell_type": "code",
   "execution_count": null,
   "metadata": {},
   "outputs": [],
   "source": [
    "choice = input(\"Enter 'a' if you want to add codon spaces or 'r' if you want to remove codon spaces (lowercase only):\")\n",
    "if choice == 'a':\n",
    "    addcodonspaces(input(\"Enter your sequence to add codon spaces:\"))\n",
    "elif choice == 'r':\n",
    "    removecodonspaces(input(\"Enter your sequence to remove codon spaces:\"))\n",
    "else:\n",
    "    print(\"Incorrect input, type either 'a' to add codon spaces or 'r' to remove codon spaces from a sequence.\")\n",
    "    choice = input(\"Press 'a' if you want to add codon spaces or 'r' if you want to remove codon spaces (lowercase only):\")"
   ]
  }
 ],
 "metadata": {
  "kernelspec": {
   "display_name": "Python 3 (ipykernel)",
   "language": "python",
   "name": "python3"
  },
  "language_info": {
   "codemirror_mode": {
    "name": "ipython",
    "version": 3
   },
   "file_extension": ".py",
   "mimetype": "text/x-python",
   "name": "python",
   "nbconvert_exporter": "python",
   "pygments_lexer": "ipython3",
   "version": "3.9.7"
  }
 },
 "nbformat": 4,
 "nbformat_minor": 4
}
