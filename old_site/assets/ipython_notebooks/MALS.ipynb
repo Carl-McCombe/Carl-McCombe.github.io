{
 "cells": [
  {
   "cell_type": "markdown",
   "metadata": {
    "tags": []
   },
   "source": [
    "# MALS Plots #\n",
    "\n",
    "Aim: To produce easy to interpret plots detailing the most important findings from a MALS experiment. \n",
    "The following code uses pandas (to read the data) and matplotlib (to create the plots). "
   ]
  },
  {
   "cell_type": "markdown",
   "metadata": {
    "tags": []
   },
   "source": [
    "## Imports ##\n",
    "\n",
    "As stated above, required imports are matplotlib and pandas"
   ]
  },
  {
   "cell_type": "code",
   "execution_count": null,
   "metadata": {},
   "outputs": [],
   "source": [
    "import matplotlib.pyplot as plt\n",
    "import pandas as pd\n",
    "import matplotlib.lines as mlines\n",
    "from matplotlib import rc\n",
    "rc('font',**{'family':'serif','serif':['Times']})"
   ]
  },
  {
   "cell_type": "markdown",
   "metadata": {
    "tags": []
   },
   "source": [
    "## Reading data & producing the plot ##\n",
    "\n",
    "The cell below imports the data in the form of a csv file. In the csv file should include the elution volume in one column, the refractive index trace for the protein solution in another column, the elution volume corresponding to the region used for the mass estimate in another column, and the mass estimate in another column. "
   ]
  },
  {
   "cell_type": "code",
   "execution_count": null,
   "metadata": {},
   "outputs": [],
   "source": [
    "data = pd.read_csv('data.csv')\n",
    "Figure, axes = plt.subplots(1, 2, figsize =(5.5,3.5),sharey='row')\n",
    "A = Figure.axes[0]\n",
    "B = Figure.axes[1]\n",
    "A.plot(data.Volume, data.A, color=(0,0,0), label='Refractive Index', linewidth = 2)\n",
    "A.plot(data.Volume_B, data.B, color='tomato', label='Mass Estimate', linewidth = 4)\n",
    "B.plot(data.Volume, data.C, color=(0,0,0), label='Refractive Index', linewidth = 2)\n",
    "B.plot(data.Volume_C, data.D, color='tomato', label='Mass Estimate', linewidth = 4)\n",
    "A.set_ylabel('Molecular Mass (Da)', fontsize=12)\n",
    "Figure.text(0.5, 0, 'Volume (mL)', ha='center', fontsize=12)\n",
    "A.set_title('Predicted Monomer', fontsize=12)\n",
    "B.set_title('Predicted Homodimer', fontsize=12)\n",
    "A.spines[\"top\"].set_visible(False)\n",
    "B.spines[\"top\"].set_visible(False)\n",
    "A.spines[\"right\"].set_visible(False)\n",
    "B.spines[\"right\"].set_visible(False)\n",
    "A.grid(which='major', axis='y')\n",
    "B.grid(which='major', axis='y')\n",
    "A.tick_params(axis='both', direction='in', labelsize=12, which='both')\n",
    "B.tick_params(axis='both', direction='in', labelsize=12, which='both')\n",
    "A.axhline(y=16619.75, xmin=0, xmax=1, linestyle = 'dashed', linewidth=4, alpha=0.75, color=(0.41, 0.67, 0.4))\n",
    "B.axhline(y=16619.75, xmin=0, xmax=1, linestyle = 'dashed', linewidth=4, alpha=0.75, color=(0.41, 0.67, 0.4))\n",
    "A.axhline(y=33239.5, xmin=0, xmax=1, linestyle = 'dashed', linewidth=4, alpha=0.75, color=(0.78, 0.60, 1))\n",
    "B.axhline(y=33239.5, xmin=0, xmax=1, linestyle = 'dashed', linewidth=4, alpha=0.75, color=(0.78, 0.60, 1))\n",
    "A.minorticks_on()\n",
    "B.minorticks_on()\n",
    "DimerLegend = mlines.Line2D([], [],color=(0.78, 0.60, 1), linewidth=4, linestyle = 'dashed', label='Dimer Mass')\n",
    "MonomerLegend = mlines.Line2D([], [],color=(0.41, 0.67, 0.40), linewidth=4, linestyle = 'dashed', label='Monomer Mass')\n",
    "MassLegend = mlines.Line2D([], [],color='tomato', linewidth=4, label='Mass Estimate')\n",
    "RefractiveIndex = mlines.Line2D([], [],color=(0,0,0), linewidth=2, label='Refractive Index')\n",
    "legend = B.legend(handles=[RefractiveIndex, MassLegend, MonomerLegend, DimerLegend],loc='center right', fontsize=12, borderaxespad=-11)\n",
    "plt.savefig('savelocation/filename', dpi=600, bbox_inches='tight')"
   ]
  }
 ],
 "metadata": {
  "kernelspec": {
   "display_name": "Python 3",
   "language": "python",
   "name": "python3"
  },
  "language_info": {
   "codemirror_mode": {
    "name": "ipython",
    "version": 3
   },
   "file_extension": ".py",
   "mimetype": "text/x-python",
   "name": "python",
   "nbconvert_exporter": "python",
   "pygments_lexer": "ipython3",
   "version": "3.7.6"
  }
 },
 "nbformat": 4,
 "nbformat_minor": 4
}
